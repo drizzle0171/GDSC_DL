{
  "nbformat": 4,
  "nbformat_minor": 0,
  "metadata": {
    "colab": {
      "provenance": []
    },
    "kernelspec": {
      "name": "python3",
      "display_name": "Python 3"
    },
    "language_info": {
      "name": "python"
    }
  },
  "cells": [
    {
      "cell_type": "code",
      "execution_count": null,
      "metadata": {
        "id": "dqqhnR1Yknid"
      },
      "outputs": [],
      "source": [
        "import torch\n",
        "from torchvision import datasets\n",
        "from torch import nn\n",
        "from torchvision import transforms\n",
        "from sklearn.model_selection import train_test_split\n",
        "import torchvision\n",
        "import tqdm\n"
      ]
    },
    {
      "cell_type": "code",
      "source": [
        "# model\n",
        "class block(nn.Module):\n",
        "    def __init__(self, in_channels, out_channels, identity_downsample=None, stride=1):\n",
        "        super(block, self).__init__()\n",
        "        self.expansion = 4 # channel이 3x3을 거치고 4배가 됨\n",
        "\n",
        "        # 1x1\n",
        "        self.conv1 = nn.Conv2d(in_channels, out_channels, kernel_size=1, stride=1, padding=0, bias=False)\n",
        "        self.bn1 = nn.BatchNorm2d(out_channels) # BatchNorm은 channel에 따라 계산\n",
        "\n",
        "        # 3x3 -> 손실 정보를 없애기 위해서 padding = 1\n",
        "        self.conv2 = nn.Conv2d(out_channels, out_channels, kernel_size=3, stride=stride, padding=1, bias=False)\n",
        "        self.bn2 = nn.BatchNorm2d(out_channels)\n",
        "\n",
        "        # 1x1\n",
        "        self.conv3 = nn.Conv2d(out_channels, out_channels*self.expansion, kernel_size=1, stride=1, padding=0, bias=False)\n",
        "        self.bn3 = nn.BatchNorm2d(out_channels*self.expansion)\n",
        "\n",
        "        # relu 정의\n",
        "        self.relu = nn.ReLU()\n",
        "\n",
        "        # identity mapping: shape(dim)을 맞춰주기 위함 \n",
        "        self.identity_downsample = identity_downsample\n",
        "\n",
        "    def forward(self, x):\n",
        "        identity = x\n",
        "\n",
        "        # 1x1\n",
        "        x = self.conv1(x)\n",
        "        x = self.bn1(x)\n",
        "        x = self.relu(x)\n",
        "        # 3x3\n",
        "        x = self.conv2(x)\n",
        "        x = self.bn2(x)\n",
        "        x = self.relu(x)\n",
        "        # 1x1\n",
        "        x = self.conv3(x)\n",
        "        x = self.bn3(x)\n",
        "\n",
        "        # identity\n",
        "        if self.identity_downsample is not None:\n",
        "            identity = self.identity_downsample(identity)\n",
        "        x += identity\n",
        "\n",
        "        # relu\n",
        "        x = self.relu(x)\n",
        "        return x\n",
        "\n",
        "# ResNet 50 Architecture: 3 4 6 3\n",
        "class ResNet(nn.Module): \n",
        "    def __init__(self, block, layers, image_channels, num_classes):\n",
        "        super(ResNet, self).__init__()\n",
        "        self.in_channels = 64\n",
        "        \n",
        "        # layer_name: conv1 (output: 112x112x64)\n",
        "        self.conv1 = nn.Conv2d(image_channels, 64, kernel_size=7, stride=2, padding=3) # padding = 3이어야지 output = 112x112\n",
        "        self.bn1 = nn.BatchNorm2d(64)\n",
        "        self.relu = nn.ReLU()\n",
        "\n",
        "        # layer_name: conv2x (output: 56x56x256)\n",
        "        self.maxpool = nn.MaxPool2d(kernel_size=3, stride=2, padding=1) #(output: 56x56x64)\n",
        "        self.layer1 = self.layer(block, layers[0], out_channels=64, stride=1)\n",
        "\n",
        "        # layer_name: conv3x (output: 28x28x512)\n",
        "        self.layer2 = self.layer(block, layers[1], out_channels=128, stride=2)\n",
        "\n",
        "        # layer_name: conv4x (output: 14x14x1024)\n",
        "        self.layer3 = self.layer(block, layers[2], out_channels=256, stride=2)\n",
        "\n",
        "        # layer_name: conv5x (output: 7x7x2048)\n",
        "        self.layer4 = self.layer(block, layers[3], out_channels=512, stride=2)\n",
        "\n",
        "        # average pooling\n",
        "        self.avgpool = nn.AdaptiveAvgPool2d((1,1))\n",
        "        self.fc = nn.Linear(512*4, num_classes)\n",
        "\n",
        "    # 50개의 layer를 다 쌓을 수 없으니...\n",
        "    def layer(self, block, num_residual_blocks, out_channels, stride):\n",
        "        identity_downsample = None\n",
        "        layers = []\n",
        "\n",
        "        if stride != 1 or self.in_channels != out_channels*4:\n",
        "            identity_downsample = nn.Sequential(nn.Conv2d(self.in_channels, out_channels*4, kernel_size=1, stride=stride),\n",
        "                                                nn.BatchNorm2d(out_channels*4))\n",
        "        \n",
        "        layers.append(block(self.in_channels, out_channels, identity_downsample, stride))\n",
        "        \n",
        "        self.in_channels = out_channels*4\n",
        "\n",
        "        for i in range(num_residual_blocks - 1):\n",
        "            layers.append(block(self.in_channels, out_channels))\n",
        "        \n",
        "        return nn.Sequential(*layers)\n",
        "\n",
        "    def forward(self, x):\n",
        "        # ResNet 전\n",
        "        x = self.conv1(x)\n",
        "        x = self.bn1(x)\n",
        "        x = self.relu(x)\n",
        "        x = self.maxpool(x)\n",
        "\n",
        "        # ResNet 중\n",
        "        x = self.layer1(x) # 8\n",
        "        x = self.layer2(x) \n",
        "        x = self.layer3(x) \n",
        "        x = self.layer4(x)\n",
        "\n",
        "        # ResNet 후\n",
        "        x = self.avgpool(x)\n",
        "        x = x.reshape(x.shape[0], -1) # Linear layer에 넣어주기 위해 reshape\n",
        "        y = self.fc(x)\n",
        "\n",
        "        return y\n",
        "\n",
        "# 드디어 ResNet\n",
        "def ResNet50(img_channels=3, num_classes=10):\n",
        "    return ResNet(block, [3,4,6,3], img_channels, num_classes)"
      ],
      "metadata": {
        "id": "C7mYI4gRl5vf"
      },
      "execution_count": null,
      "outputs": []
    },
    {
      "cell_type": "code",
      "source": [
        "# data transforms\n",
        "transform_train = transforms.Compose([transforms.RandomCrop(32, padding=4), transforms.RandomHorizontalFlip(), transforms.ToTensor(), transforms.Normalize( (0.4914, 0.4822, 0.4465), (0.2023, 0.1994, 0.2010))])\n",
        "transform_test = transforms.Compose([transforms.ToTensor(), transforms.Normalize( (0.4914, 0.4822, 0.4465), (0.2023, 0.1994, 0.2010))])"
      ],
      "metadata": {
        "id": "IdTTeuJwmAF4"
      },
      "execution_count": null,
      "outputs": []
    },
    {
      "cell_type": "code",
      "source": [
        "# data load\n",
        "train = datasets.ciFAR10(root='ciFAR10_data/', \n",
        "                         train=True, \n",
        "                         download=False, \n",
        "                         transform=transform_train)\n",
        "test = datasets.ciFAR10(root='ciFAR10_data/', \n",
        "                        train=False, \n",
        "                        download=False, \n",
        "                        transform=transform_test)"
      ],
      "metadata": {
        "id": "PYGGJ42omAJ3"
      },
      "execution_count": null,
      "outputs": []
    },
    {
      "cell_type": "code",
      "source": [
        "# dataloader\n",
        "batch_size = int(128)\n",
        "trainloader = torch.utils.data.DataLoader(train_set, batch_size=batch_size, shuffle=False, num_workers=2)\n",
        "valloder = torch.utils.data.DataLoader(val_set, batch_size=batch_size, shuffle=True, num_workers=2)\n",
        "testloader = torch.utils.data.DataLoader(test, batch_size=batch_size, shuffle=False, num_workers=2)"
      ],
      "metadata": {
        "id": "TMfpV5sDmuSz"
      },
      "execution_count": null,
      "outputs": []
    },
    {
      "cell_type": "code",
      "source": [
        "# data split\n",
        "train_indices, val_indices, _, _ = train_test_split(range(len(train)), train.targets, test_size=.1)\n",
        "train_set = Subset(train, train_indices)\n",
        "val_set = Subset(train, val_indices)"
      ],
      "metadata": {
        "id": "uTGWYLkfmrWC"
      },
      "execution_count": null,
      "outputs": []
    },
    {
      "cell_type": "code",
      "source": [
        "# cifar10\n",
        "classes = ('plane', 'car', 'bird', 'cat', 'deer', 'dog', 'frog', 'horse', 'ship', 'truck')"
      ],
      "metadata": {
        "id": "X2TUYJLZmwnK"
      },
      "execution_count": null,
      "outputs": []
    },
    {
      "cell_type": "code",
      "source": [
        "# model\n",
        "model = ResNet50().cuda()\n",
        "num_parmas = sum(p.numel() for p in model.parameters() if p.requires_grad)\n",
        "print('The Number of params of model: ', num_parmas)\n",
        "\n",
        "# criterion & optimizer\n",
        "criterion = nn.CrossEntropyLoss().cuda()\n",
        "optimizer = torch.optim.SGD(model.parameters(), lr = 0.15, momentum=0.9, weight_decay =1e-4)\n",
        "\n",
        "# decay_epoch\n",
        "decay_epoch = [32000, 48000]\n",
        "schedular = torch.optim.lr_scheduler.MultiStepLR(optimizer, milestones=decay_epoch, gamma=0.1)"
      ],
      "metadata": {
        "id": "WsuJi6f6mzYz"
      },
      "execution_count": null,
      "outputs": []
    },
    {
      "cell_type": "code",
      "source": [
        "# train\n",
        "model.train()\n",
        "steps = 0\n",
        "total = 0 \n",
        "correct = 0\n",
        "for epoch in range(182):\n",
        "    epoch_loss = 0.0\n",
        "    for i, data in enumerate(tqdm.tqdm(trainloader, desc=f'{epoch+1} epoch')):\n",
        "        steps+=1\n",
        "        inputs, labels = data\n",
        "        total += labels.size(0)\n",
        "        inputs, labels = inputs.cuda(), labels.cuda()\n",
        "        outputs = model(inputs).cuda()\n",
        "        loss = criterion(outputs, labels)\n",
        "        optimizer.zero_grad()\n",
        "        loss.backward()\n",
        "        optimizer.step()\n",
        "        schedular.step()\n",
        "        _, predict = outputs.max(1)\n",
        "        correct += predict.eq(labels).sum().item()\n",
        "        epoch_loss += loss.item()\n",
        "        if steps == 64000:\n",
        "            break\n",
        "    if steps == 64000:\n",
        "        break\n",
        "    training_loss = epoch_loss/len(trainloader)\n",
        "    wandb.log({\"loss\": training_loss})\n",
        "    print('Training loss: ', training_loss)\n",
        "    print('Accuracy(Training): {} % '.format(100.*correct/total))\n",
        "print('Finished Training')"
      ],
      "metadata": {
        "id": "mmQJi1YXm0Ah"
      },
      "execution_count": null,
      "outputs": []
    },
    {
      "cell_type": "code",
      "source": [
        "# Validation \n",
        "model.eval()\n",
        "total = 0\n",
        "correct = 0\n",
        "with torch.no_grad():\n",
        "    epoch_loss=0\n",
        "    for idx, data in enumerate(tqdm.tqdm(valloder, desc=f'{epoch+1} epoch')):\n",
        "        inputs, labels = data\n",
        "        total += labels.size(0)\n",
        "        inputs, labels = inputs.cuda(), labels.cuda()\n",
        "        outputs = model(inputs).cuda()\n",
        "        loss = criterion(outputs, labels)\n",
        "        epoch_loss += loss.item()\n",
        "        _, predict = outputs.max(1)\n",
        "        correct += predict.eq(labels).sum().item()\n",
        "    loss = epoch_loss/len(valloder)\n",
        "    accuracy = outputs\n",
        "    print('Validation loss: ', loss)\n",
        "    print('Accuracy(Validation): ', 100.*correct/total)"
      ],
      "metadata": {
        "id": "cJCQlit3m31M"
      },
      "execution_count": null,
      "outputs": []
    }
  ]
}